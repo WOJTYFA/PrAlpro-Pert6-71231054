{
 "cells": [
  {
   "cell_type": "code",
   "execution_count": 1,
   "metadata": {},
   "outputs": [
    {
     "name": "stdout",
     "output_type": "stream",
     "text": [
      "Bilangan prima terdekat dari 52 tapi kurang dari 52 adalah 47\n"
     ]
    }
   ],
   "source": [
    "#latihan 6.1\n",
    "def ini_prima(num):\n",
    "    if num <= 1 :\n",
    "        return False\n",
    "    for i in range(2, int(num**0.5) + 1):\n",
    "        if num % i == 0:\n",
    "            return False\n",
    "    return True\n",
    "\n",
    "def bilangan_prima_terdekat_kurangdari_n(n):\n",
    "    if n <= 2 :\n",
    "        return None\n",
    "    \n",
    "    prima = None\n",
    "    for num in range(n-1, 1, -1):\n",
    "        if ini_prima(num):\n",
    "            prima = num\n",
    "            break\n",
    "\n",
    "    return prima\n",
    "\n",
    "n = int(input(\" Masukan bilangan bulat positif : \"))\n",
    "hasil = bilangan_prima_terdekat_kurangdari_n(n)\n",
    "\n",
    "if hasil:\n",
    "    print(f\"Bilangan prima terdekat dari {n} tapi kurang dari {n} adalah {hasil}\")\n",
    "else:\n",
    "    print(f\" Tidak ada bilangan prima terdekat yang kurang dari {n}\")"
   ]
  },
  {
   "cell_type": "code",
   "execution_count": 3,
   "metadata": {},
   "outputs": [
    {
     "name": "stdout",
     "output_type": "stream",
     "text": [
      "120 6 5 4 3 2 1 \n",
      "24 5 4 3 2 1 \n",
      "6 4 3 2 1 \n",
      "2 3 2 1 \n",
      "1 2 1 \n"
     ]
    }
   ],
   "source": [
    "#latihan 6.2\n",
    "def deret(n):\n",
    "    for i in range(n, 1, -1):\n",
    "        faktorial = 1\n",
    "        for j in range(1, i, +1):\n",
    "            faktorial *= j\n",
    "        print(faktorial, end=\" \")\n",
    "        for k in range(i, 0, -1):\n",
    "            print(k, end=\" \")\n",
    "        print()\n",
    "\n",
    "n = int(input(\" Masukan n : \"))\n",
    "deret(n)"
   ]
  },
  {
   "cell_type": "code",
   "execution_count": 4,
   "metadata": {},
   "outputs": [
    {
     "name": "stdout",
     "output_type": "stream",
     "text": [
      "1 2 3 4 5 6 \n",
      "7 8 9 10 11 12 \n",
      "13 14 15 16 17 18 \n",
      "19 20 21 22 23 24 \n",
      "25 26 27 28 29 30 \n"
     ]
    }
   ],
   "source": [
    "#latihan 6.3\n",
    "def print_deret(tinggi, lebar):\n",
    "    mulai = 1\n",
    "    for i in range (tinggi):\n",
    "        for j in range(lebar):\n",
    "            print(mulai, end=\" \")\n",
    "            mulai += 1 \n",
    "        print()\n",
    "\n",
    "tinggi = int(input(\" masukan tinggi yang diinginkan : \"))\n",
    "lebar = int(input(\" masukan lebar yang diinginkan : \"))\n",
    "print_deret(tinggi, lebar)"
   ]
  }
 ],
 "metadata": {
  "kernelspec": {
   "display_name": "Python 3",
   "language": "python",
   "name": "python3"
  },
  "language_info": {
   "codemirror_mode": {
    "name": "ipython",
    "version": 3
   },
   "file_extension": ".py",
   "mimetype": "text/x-python",
   "name": "python",
   "nbconvert_exporter": "python",
   "pygments_lexer": "ipython3",
   "version": "3.12.0"
  }
 },
 "nbformat": 4,
 "nbformat_minor": 2
}
